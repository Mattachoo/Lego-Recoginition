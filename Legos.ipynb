{
 "cells": [
  {
   "cell_type": "code",
   "execution_count": null,
   "metadata": {},
   "outputs": [
    {
     "name": "stderr",
     "output_type": "stream",
     "text": [
      "C:\\Users\\mattp\\Anaconda3\\lib\\site-packages\\sklearn\\cross_validation.py:41: DeprecationWarning: This module was deprecated in version 0.18 in favor of the model_selection module into which all the refactored classes and functions are moved. Also note that the interface of the new CV iterators are different from that of this module. This module will be removed in 0.20.\n",
      "  \"This module will be removed in 0.20.\", DeprecationWarning)\n"
     ]
    }
   ],
   "source": [
    "import pandas as pd\n",
    "import cv2\n",
    "import numpy as np\n",
    "import matplotlib.pyplot as plt\n",
    "import os\n",
    "from sklearn.neighbors import KNeighborsClassifier\n",
    "from sklearn.cross_validation import train_test_split\n",
    "from imutils import paths\n",
    "import numpy as np\n",
    "import argparse\n",
    "import imutils\n",
    "import matplotlib.image as mpimg\n"
   ]
  },
  {
   "cell_type": "code",
   "execution_count": null,
   "metadata": {
    "collapsed": true
   },
   "outputs": [],
   "source": []
  },
  {
   "cell_type": "code",
   "execution_count": null,
   "metadata": {
    "scrolled": true
   },
   "outputs": [],
   "source": []
  },
  {
   "cell_type": "markdown",
   "metadata": {},
   "source": [
    "Preprocessing: Resizing and saving images"
   ]
  },
  {
   "cell_type": "code",
   "execution_count": null,
   "metadata": {},
   "outputs": [],
   "source": [
    "flat = list()\n",
    "for file in os.listdir(\"lego_pictures\"):\n",
    "    img = cv2.imread(\"lego_pictures/\"+file)\n",
    "    small = cv2.resize(img, (32,32))\n",
    "    flat.append(small.flatten())\n",
    "\n",
    "flat"
   ]
  },
  {
   "cell_type": "markdown",
   "metadata": {},
   "source": [
    "Flattening images and adding values to an array"
   ]
  },
  {
   "cell_type": "code",
   "execution_count": 82,
   "metadata": {
    "scrolled": true
   },
   "outputs": [
    {
     "name": "stdout",
     "output_type": "stream",
     "text": [
      "0      1x2-Block\n",
      "1      1x2-Block\n",
      "2      1x2-Block\n",
      "3      1x2-Block\n",
      "4      1x2-Block\n",
      "5      1x2-Block\n",
      "6      1x2-Block\n",
      "7      1x2-Block\n",
      "8      1x2-Block\n",
      "9      1x2-Block\n",
      "10     1x2-Block\n",
      "11     1x2-Block\n",
      "12     1x2-Block\n",
      "13     1x2-Block\n",
      "14     1x2-Block\n",
      "15     1x2-Block\n",
      "16     1x2-Block\n",
      "17     1x2-Block\n",
      "18     1x2-Block\n",
      "19     1x2-Block\n",
      "20     1x2-Block\n",
      "21     1x2-Block\n",
      "22     1x2-Block\n",
      "23     1x2-Block\n",
      "24     1x2-Block\n",
      "25     1x2-Block\n",
      "26     1x2-Block\n",
      "27     1x2-Block\n",
      "28     1x2-Block\n",
      "29     1x2-Block\n",
      "         ...    \n",
      "570    1x1-Round\n",
      "571    1x1-Round\n",
      "572    1x1-Round\n",
      "573    1x1-Round\n",
      "574    1x1-Round\n",
      "575    1x1-Round\n",
      "576    1x1-Round\n",
      "577    1x1-Round\n",
      "578    1x1-Round\n",
      "579    1x1-Round\n",
      "580    1x1-Round\n",
      "581    1x1-Round\n",
      "582    1x1-Round\n",
      "583    1x1-Round\n",
      "584    1x1-Round\n",
      "585    1x1-Round\n",
      "586    1x1-Round\n",
      "587    1x1-Round\n",
      "588    1x1-Round\n",
      "589    1x1-Round\n",
      "590    1x1-Round\n",
      "591    1x1-Round\n",
      "592    1x1-Round\n",
      "593    1x1-Round\n",
      "594    1x1-Round\n",
      "595    1x1-Round\n",
      "596    1x1-Round\n",
      "597    1x1-Round\n",
      "598    1x1-Round\n",
      "599    1x1-Round\n",
      "Name: type, Length: 600, dtype: object\n"
     ]
    }
   ],
   "source": [
    "label_df = pd.read_csv('legos.csv')\n",
    "df = pd.DataFrame([])\n",
    "print(label_df['type'])"
   ]
  },
  {
   "cell_type": "code",
   "execution_count": 89,
   "metadata": {
    "collapsed": true
   },
   "outputs": [],
   "source": [
    "histogram = list()\n",
    "bins = (8,8,8)\n",
    "for file in os.listdir(\"lego_pictures\"):\n",
    "    img = cv2.imread(\"lego_pictures/\"+file)\n",
    "    hsv = cv2.cvtColor(img, cv2.COLOR_BGR2HSV)\n",
    "    hist = cv2.calcHist([hsv], [0, 1, 2], None, bins,\n",
    "    [0, 180, 0, 256, 0, 256])\n",
    "    if imutils.is_cv2():\n",
    "        hist = cv2.normalize(hist)\n",
    "    else:\n",
    "        cv2.normalize(hist, hist)\n",
    "    histogram.append(hist.flatten())\n"
   ]
  },
  {
   "cell_type": "code",
   "execution_count": 90,
   "metadata": {},
   "outputs": [
    {
     "name": "stderr",
     "output_type": "stream",
     "text": [
      "IOPub data rate exceeded.\n",
      "The notebook server will temporarily stop sending output\n",
      "to the client in order to avoid crashing it.\n",
      "To change this limit, set the config variable\n",
      "`--NotebookApp.iopub_data_rate_limit`.\n"
     ]
    }
   ],
   "source": [
    "histogram"
   ]
  },
  {
   "cell_type": "code",
   "execution_count": null,
   "metadata": {
    "collapsed": true
   },
   "outputs": [],
   "source": []
  }
 ],
 "metadata": {
  "kernelspec": {
   "display_name": "Python 3",
   "language": "python",
   "name": "python3"
  },
  "language_info": {
   "codemirror_mode": {
    "name": "ipython",
    "version": 3
   },
   "file_extension": ".py",
   "mimetype": "text/x-python",
   "name": "python",
   "nbconvert_exporter": "python",
   "pygments_lexer": "ipython3",
   "version": "3.6.3"
  }
 },
 "nbformat": 4,
 "nbformat_minor": 2
}
